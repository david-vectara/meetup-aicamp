{
 "cells": [
  {
   "cell_type": "markdown",
   "id": "622b357b-5de3-4387-978c-55b2bce3b2f5",
   "metadata": {},
   "source": [
    "# Example Queries\n",
    "\n",
    "We'll now demonstrate the power of Vectara using a curated corpus. We'll also show some of this in the console (though it has less controls)"
   ]
  },
  {
   "cell_type": "code",
   "execution_count": null,
   "id": "771898ad-5a56-4c24-a40f-87cb0e82bb97",
   "metadata": {},
   "outputs": [],
   "source": [
    "from vectara_client.core import Factory\n",
    "from vectara_client.admin import CorpusBuilder\n",
    "from vectara_client.util import render_markdown\n",
    "from IPython.display import display, Markdown\n",
    "import logging\n",
    "import json\n",
    "\n",
    "logging.basicConfig(format='%(asctime)s:%(name)-35s %(levelname)s:%(message)s', level=logging.INFO, datefmt='%H:%M:%S %z')\n",
    "logger = logging.getLogger(__name__)\n",
    "\n",
    "client = Factory().build()\n",
    "manager = client.corpus_manager\n",
    "\n",
    "corpus_id = manager.find_corpus_by_name(\"AICamp Sessions\")\n",
    "events_corpus_id = manager.find_corpus_by_name(\"AICamp Events\")"
   ]
  },
  {
   "cell_type": "code",
   "execution_count": null,
   "id": "52891a7e-ec7b-4ee8-bf14-77b3cea645e8",
   "metadata": {},
   "outputs": [],
   "source": [
    "qs = client.query_service\n",
    "\n",
    "def render_response(query, response, show_search_results=False):\n",
    "    rendered = render_markdown(query, response, show_search_results=show_search_results)\n",
    "    display(Markdown(rendered))"
   ]
  },
  {
   "cell_type": "markdown",
   "id": "273a3ea0-02fe-4969-ab5e-079853eec8fb",
   "metadata": {},
   "source": [
    "## Query by Date\n",
    "We'll run a query for any meetups on the 5th of May, 2023"
   ]
  },
  {
   "cell_type": "code",
   "execution_count": null,
   "id": "1791a862-0c02-4fe5-bf1e-03d0f5140ac2",
   "metadata": {},
   "outputs": [],
   "source": [
    "query = \"What sessions covered GenAI?\"\n",
    "response = qs.query(query, corpus_id, summary=True, summarizer=\"vectara-summary-ext-v1.3.0\",\n",
    "                    metadata = \"doc.num_going < 20\",\n",
    "                    summary_result_count = 10)\n",
    "render_response(query, response, show_search_results=True)"
   ]
  },
  {
   "cell_type": "code",
   "execution_count": null,
   "id": "aec824de-995d-44d1-97a0-0f4428c56bee",
   "metadata": {},
   "outputs": [],
   "source": [
    "\n",
    "query = \"What topics were presented?\"\n",
    "response = qs.query(query, corpus_id, summary=True, summarizer=\"vectara-summary-ext-v1.3.0\",\n",
    "                    metadata = \"((doc.event_month = '05') AND (doc.event_year = '2023'))\",\n",
    "                    summary_result_count = 10)\n",
    "render_response(query, response)"
   ]
  },
  {
   "cell_type": "markdown",
   "id": "cbc2bebc-b59f-4f75-9f8c-f91b560d899f",
   "metadata": {},
   "source": [
    "## What certifications do AICamp run?"
   ]
  },
  {
   "cell_type": "code",
   "execution_count": null,
   "id": "5d17b1de-65e3-4200-a299-c8309cea9c02",
   "metadata": {},
   "outputs": [],
   "source": [
    "query = \"What certifications do AICamp run?\"\n",
    "response = qs.query(query, corpus_id, summary=True, summarizer=\"vectara-summary-ext-v1.3.0\")\n",
    "render_response(query, response)"
   ]
  },
  {
   "cell_type": "code",
   "execution_count": null,
   "id": "c71c2a91-ba96-4de0-8c3d-f8ba0b723628",
   "metadata": {},
   "outputs": [],
   "source": [
    "query = \"What certifications do AICamp run?\"\n",
    "response = qs.query(query, events_corpus_id, summary=True, summarizer=\"vectara-summary-ext-v1.3.0\")\n",
    "render_response(query, response)"
   ]
  },
  {
   "cell_type": "code",
   "execution_count": null,
   "id": "215a24f3-7551-4d33-8419-625f304cb5d6",
   "metadata": {},
   "outputs": [],
   "source": [
    "query = \"What speeches has Federico Bianchi been involved in?\"\n",
    "response = qs.query(query, corpus_id, summary=True, summarizer=\"vectara-summary-ext-v1.3.0\", metadata = \"((doc.event_month = '05') AND (doc.event_year = '2023'))\")\n",
    "render_response(query, response)\n"
   ]
  },
  {
   "cell_type": "code",
   "execution_count": null,
   "id": "68b5765a-2356-4cb9-917a-04432742ba1f",
   "metadata": {},
   "outputs": [],
   "source": [
    "query = \""
   ]
  }
 ],
 "metadata": {
  "kernelspec": {
   "display_name": "Python 3 (ipykernel)",
   "language": "python",
   "name": "python3"
  },
  "language_info": {
   "codemirror_mode": {
    "name": "ipython",
    "version": 3
   },
   "file_extension": ".py",
   "mimetype": "text/x-python",
   "name": "python",
   "nbconvert_exporter": "python",
   "pygments_lexer": "ipython3",
   "version": "3.12.1"
  }
 },
 "nbformat": 4,
 "nbformat_minor": 5
}
