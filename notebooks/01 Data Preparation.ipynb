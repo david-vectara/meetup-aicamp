{
 "cells": [
  {
   "cell_type": "markdown",
   "id": "6ff5e5f3-cb50-42bd-a57a-b1f3e398b08f",
   "metadata": {},
   "source": [
    "# Data Preparation\n",
    "\n",
    "To start with, we'll present some data preparation. We've downloaded the GraphQL from Meetups.com for this event and we can start loading this and transforming the data for our purposes."
   ]
  },
  {
   "cell_type": "code",
   "execution_count": null,
   "id": "e376c593-35e9-4782-8378-9170a4189bd3",
   "metadata": {},
   "outputs": [],
   "source": [
    "%pip install -q duckdb pandas pyarrow matplotlib"
   ]
  },
  {
   "cell_type": "code",
   "execution_count": null,
   "id": "caebd3f4-1ada-4f1b-bc8b-0c459aa90ae6",
   "metadata": {
    "jupyter": {
     "source_hidden": true
    }
   },
   "outputs": [],
   "source": [
    "from pathlib import Path\n",
    "import logging\n",
    "import codecs\n",
    "import json\n",
    "from datetime import datetime\n",
    "\n",
    "# import logging properly.\n",
    "logging.basicConfig(format='%(asctime)s:%(name)-35s %(levelname)s:%(message)s', level=logging.INFO, datefmt='%H:%M:%S %z')\n",
    "logging.getLogger(\"OAuthUtil\").setLevel(logging.WARNING)\n",
    "logger = logging.getLogger(__name__)\n",
    "\n",
    "is_debug = logging.getLogger().getEffectiveLevel() == logging.DEBUG"
   ]
  },
  {
   "cell_type": "markdown",
   "id": "e857b2ba-e6cd-421f-b1c7-a0c050de8885",
   "metadata": {},
   "source": [
    "## Parse GraphQL from Meetups.com\n",
    "\n",
    "We've downloaded the GraphQL from Meetups.com for AICamp which has a trove of information.\n",
    "\n",
    "We'll now parse it into a structure we can use to load our corpus."
   ]
  },
  {
   "cell_type": "code",
   "execution_count": null,
   "id": "c88ef370-8537-4bff-9f8f-df861cc9659d",
   "metadata": {},
   "outputs": [],
   "source": [
    "meetups = []\n",
    "\n",
    "for input in Path(\"../resources/meetups/aicamp\").glob(\"*.json\"):\n",
    "    logger.info(f\"Found file [{input.name}]\")\n",
    "\n",
    "    with codecs.open(input, encoding=\"utf-8\") as f:\n",
    "        content = json.loads(f.read())\n",
    "\n",
    "    edges = content['data']['groupByUrlname']['events']['edges']\n",
    "    for edge in edges:\n",
    "        event = edge['node']\n",
    "        title = event['title']\n",
    "        event_datetime = datetime.strptime(event['dateTime'], \"%Y-%m-%dT%H:%M:%S%z\")\n",
    "        event_date_str = datetime.strftime(event_datetime, '%Y/%m/%d')\n",
    "        num_going = event['going']['totalCount']\n",
    "\n",
    "        description_lines = event['description'].split(\"\\n\")\n",
    "\n",
    "        skip_contents = [\n",
    "            \"Pre-registration is required, please complete RSVP here:\",\n",
    "            \"https://www.aicamp.ai/event/eventdetails\",\n",
    "            \"Welcome to our monthly in-person AI meetup in Sydney.\"\n",
    "        ]\n",
    "        \n",
    "        content_lines = []\n",
    "\n",
    "        for idx, line in enumerate(description_lines):\n",
    "            skip = False\n",
    "            for skip_content in skip_contents:\n",
    "                if skip_content in line:\n",
    "                    skip = True\n",
    "                    break\n",
    "            if skip:\n",
    "                continue\n",
    "\n",
    "            content_lines.append(line)\n",
    "        description = \"\\n\".join(content_lines)\n",
    "\n",
    "        if is_debug:\n",
    "            logger.debug(f\"Description is:\\n{description}\")\n",
    "        \n",
    "                \n",
    "        meetup = {\n",
    "            \"id\": event['id'],\n",
    "            \"title\": title,\n",
    "            \"description\": description,\n",
    "            \"event_date\": event_date_str,\n",
    "            \"event_year\": datetime.strftime(event_datetime, '%Y'),\n",
    "            \"event_month\": datetime.strftime(event_datetime, '%m'),\n",
    "            \"url\": event['eventUrl'],\n",
    "            \"event_type\": event['eventType'].lower(),\n",
    "            \"is_online\": event['isOnline'],\n",
    "            \"num_going\": num_going \n",
    "        }\n",
    "        meetups.append(meetup)\n",
    "\n",
    "    \n",
    "logger.info(f\"Total meetups is {len(meetups)}\")\n",
    "    "
   ]
  },
  {
   "cell_type": "markdown",
   "id": "2836f880-53a4-4e33-9e8a-e07420950205",
   "metadata": {},
   "source": [
    "## View the Data\n",
    "\n",
    "We'll use DuckDB to review the data we've downloaded."
   ]
  },
  {
   "cell_type": "code",
   "execution_count": null,
   "id": "e61e0618-3927-4b91-b96e-e97cc8e18c75",
   "metadata": {},
   "outputs": [],
   "source": [
    "import pandas as pd\n",
    "import duckdb\n",
    "import pyarrow as pa\n",
    "\n",
    "columns = []\n",
    "for key in meetups[0].keys():\n",
    "    columns.append(key)\n",
    "    \n",
    "df = pd.DataFrame(meetups, columns=columns)\n",
    "con = duckdb.connect()\n",
    "meetups_raw = pa.Table.from_pandas(df)"
   ]
  },
  {
   "cell_type": "markdown",
   "id": "70c66cd8-d7e0-439b-b460-6f94155c77e4",
   "metadata": {},
   "source": [
    "## Lets Look at Attendance\n",
    "\n",
    "Lets look at how attendance has gone over the years!!"
   ]
  },
  {
   "cell_type": "code",
   "execution_count": null,
   "id": "ffefe6ad-75bf-47b1-91e5-712d456b6c74",
   "metadata": {},
   "outputs": [],
   "source": [
    "result_df = con.execute(\"\"\"SELECT event_year || '-' || event_month as event_year_month, cast(round(avg(num_going),0) as int) AS AVG_ATTENDANCE\n",
    "FROM meetups_raw\n",
    "GROUP BY event_year, event_month\n",
    "ORDER BY event_year, event_month\"\"\").fetchdf()\n",
    "\n",
    "#%matplotlib inline\n",
    "result_df.plot(x=\"event_year_month\")"
   ]
  },
  {
   "cell_type": "markdown",
   "id": "f66737e6-dc62-4d79-ae58-3a80dfee1196",
   "metadata": {},
   "source": [
    "## Lets look for Seasonality\n",
    "\n",
    "We'll quickly review attendance by month to see how we do in May!!"
   ]
  },
  {
   "cell_type": "code",
   "execution_count": null,
   "id": "93e9aaf1-4db1-4398-963e-adc7e1fb47b2",
   "metadata": {},
   "outputs": [],
   "source": [
    "month_df = con.execute(\"\"\"\n",
    "SELECT \n",
    "    event_month, \n",
    "    cast(round(avg(num_going),0) as int) AS AVG_ATTENDANCE\n",
    "FROM meetups_raw\n",
    "GROUP BY event_month\n",
    "ORDER BY event_month\"\"\").fetchdf()\n",
    "\n",
    "month_df.plot(x=\"event_month\")\n"
   ]
  },
  {
   "cell_type": "markdown",
   "id": "a7cef2e1-3906-4cf9-b41d-ed0cac07012f",
   "metadata": {},
   "source": [
    "## Persist the Output\n",
    "We'll now persist the output to retain our early curation work for the next notebook."
   ]
  },
  {
   "cell_type": "code",
   "execution_count": null,
   "id": "9db22ca9-b76c-40a9-916b-87f713a9259f",
   "metadata": {},
   "outputs": [],
   "source": [
    "output_dir = \"../output\"\n",
    "Path(output_dir).mkdir(parents=True, exist_ok=True)\n",
    "con.execute(f\"\"\"COPY\n",
    "    (SELECT * FROM meetups_raw)\n",
    "    TO '{output_dir}/meetups_raw.parquet'\n",
    "    (FORMAT 'parquet');\"\"\")"
   ]
  }
 ],
 "metadata": {
  "kernelspec": {
   "display_name": "Python 3 (ipykernel)",
   "language": "python",
   "name": "python3"
  },
  "language_info": {
   "codemirror_mode": {
    "name": "ipython",
    "version": 3
   },
   "file_extension": ".py",
   "mimetype": "text/x-python",
   "name": "python",
   "nbconvert_exporter": "python",
   "pygments_lexer": "ipython3",
   "version": "3.12.1"
  }
 },
 "nbformat": 4,
 "nbformat_minor": 5
}
