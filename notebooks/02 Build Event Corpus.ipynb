{
 "cells": [
  {
   "cell_type": "markdown",
   "id": "36c74d4f-8f82-4347-92d4-c8b35be36632",
   "metadata": {},
   "source": [
    "# Build and Load the Event Corpus\n",
    "We'll now build our event corpus, this is where we'll put events with their full description. This contains the \"raw\" description before we run a curation step to extract the talks provided.\n",
    "\n",
    "We'll re-use the Parquet from the previous slide.\n",
    "\n",
    "A key thing for this corpus is to include five filter attributes, which demonstrate the power of Semantic Search combined with Key-Value searches. We will define four filter attributes below:\n",
    "\n",
    "* **event_date:** When the event occurred in yyyy-mm-dd format\n",
    "* **event_year:** Which year the event occured\n",
    "* **event_month:** Which month the event occurred\n",
    "* **event_type:** Delivery format (online or physical)\n",
    "* **is_online:** Whether this was an online event (boolean)\n",
    "* **url:** A trackback to meetup.com"
   ]
  },
  {
   "cell_type": "code",
   "execution_count": null,
   "id": "0b27516c-30ba-46ec-b0ae-4632c69595a2",
   "metadata": {
    "jupyter": {
     "source_hidden": true
    }
   },
   "outputs": [],
   "source": [
    "import logging\n",
    "\n",
    "logging.basicConfig(format='%(asctime)s:%(name)-35s %(levelname)s:%(message)s', level=logging.INFO, datefmt='%H:%M:%S %z')\n",
    "logging.getLogger(\"OAuthUtil\").setLevel(logging.WARNING)\n",
    "logger = logging.getLogger(__name__)"
   ]
  },
  {
   "cell_type": "markdown",
   "id": "0cfcd2fa-d8a0-4008-ac24-88dbe428bee3",
   "metadata": {},
   "source": [
    "## Initialize our Client\n",
    "We'll use the client library vectara-skunk-client as our client SDK to work with Vectara.\n",
    "\n",
    "We use implicit configuration to avoid the need to plug in API keys within each notebook,\n",
    "avoiding the need to delete secrets pre-commit."
   ]
  },
  {
   "cell_type": "code",
   "execution_count": null,
   "id": "9082a670-50e7-49a9-aa30-9a6f9654274e",
   "metadata": {},
   "outputs": [],
   "source": [
    "from vectara_client.core import Factory\n",
    "from vectara_client.admin import CorpusBuilder\n",
    "\n",
    "client = Factory().build()\n",
    "manager = client.corpus_manager"
   ]
  },
  {
   "cell_type": "markdown",
   "id": "138690b0-7227-4452-98fd-aeb4b856bbaa",
   "metadata": {},
   "source": [
    "## Structure our Corpus\n",
    "We'll now do corpus modelling based on the available data."
   ]
  },
  {
   "cell_type": "code",
   "execution_count": null,
   "id": "2451453b-1458-429a-be79-9d5cc65c9390",
   "metadata": {},
   "outputs": [],
   "source": [
    "corpus = (CorpusBuilder(\"AICamp Events\")\n",
    "         .description(\"This is where we put our events with their raw description\")\n",
    "         .add_attribute(\"event_date\", \"When the event occurred in yyyy-mm-dd format\", type=\"text\")\n",
    "         .add_attribute(\"event_year\", \"Which year the event occured\")\n",
    "         .add_attribute(\"event_month\", \"Which month the event occurred\")\n",
    "         .add_attribute(\"event_type\", \"Delivery format: (online or physical)\")\n",
    "         .add_attribute(\"is_online\", \"Whether this was an online event (boolean)\", type=\"boolean\")\n",
    "         .add_attribute(\"url\", \"A trackback to meetups.com\", indexed=False)\n",
    "         .build())\n",
    "\n",
    "corpus_id = manager.create_corpus(corpus, delete_existing=True)"
   ]
  },
  {
   "cell_type": "markdown",
   "id": "2d8ec4cb-0a84-4b1c-a718-384e7a5efc2e",
   "metadata": {},
   "source": [
    "## Load our Data from Parquet\n",
    "\n",
    "We'll load the data from the prior notebook."
   ]
  },
  {
   "cell_type": "code",
   "execution_count": null,
   "id": "428d33c9-588c-4b63-9a6c-fc5f5303ce64",
   "metadata": {},
   "outputs": [],
   "source": [
    "import pandas as pd\n",
    "import duckdb\n",
    "import pyarrow as pa\n",
    "\n",
    "con = duckdb.connect()\n",
    "con.execute(\"CREATE TABLE meetups_raw AS SELECT * FROM '../output/meetups_raw.parquet';\")\n",
    "\n",
    "description_df = con.execute(\"DESCRIBE meetups_raw;\").fetchdf()\n",
    "description_df"
   ]
  },
  {
   "cell_type": "markdown",
   "id": "90682eec-597d-47e3-8df3-cb7f4ad05aa7",
   "metadata": {},
   "source": [
    "## Structured Indexing\n",
    "Whilst Vectara can automatically ingest binary documents,\n",
    "for this use case we'll use the structured indexing API.\n",
    "\n",
    "https://docs.vectara.com/docs/api-reference/indexing-apis/indexing"
   ]
  },
  {
   "cell_type": "code",
   "execution_count": null,
   "id": "9c38423d-5a00-4bb6-9736-9a940005c2e4",
   "metadata": {},
   "outputs": [],
   "source": [
    "import json\n",
    "\n",
    "events_df = con.execute(\"SELECT * FROM meetups_raw;\").fetchdf()\n",
    "events = events_df.to_dict('records')\n",
    "\n",
    "vectara_documents = []\n",
    "\n",
    "for event in events:\n",
    "    metadata = {\n",
    "        \"event_date\": event[\"event_date\"],\n",
    "        \"event_year\": event[\"event_year\"],\n",
    "        \"event_month\": event[\"event_month\"],\n",
    "        \"event_type\": event[\"event_type\"],\n",
    "        \"is_online\": event[\"is_online\"],\n",
    "        \"url\": event[\"url\"]\n",
    "    }\n",
    "    metadata_json = json.dumps(metadata)\n",
    "    \n",
    "    to_index = {\n",
    "      \"document_id\": event[\"id\"],\n",
    "      \"title\": event[\"title\"],\n",
    "      \"metadata_json\": metadata_json,\n",
    "      \"section\": [\n",
    "        {\n",
    "          \"text\": event[\"description\"]\n",
    "        }\n",
    "      ]\n",
    "    }\n",
    "    vectara_documents.append(to_index)\n",
    "    "
   ]
  },
  {
   "cell_type": "markdown",
   "id": "8f97e952-8e97-4baa-b2d9-fe6070c15c6e",
   "metadata": {},
   "source": [
    "## Parallel Ingest\n",
    "The following code runs our Ingest API in parallel to increase throughput.\n",
    "\n",
    "NB: I'll move this into the vectara-skunk-client to make it easier for users."
   ]
  },
  {
   "cell_type": "code",
   "execution_count": null,
   "id": "c6562d17-8bc4-4180-bd1b-42f9a8a2ebaf",
   "metadata": {},
   "outputs": [],
   "source": [
    "class SubIndexer:\n",
    "\n",
    "    def __init__(self, indexer_service, corpus_id):\n",
    "        self.logger = logging.getLogger(self.__class__.__name__)\n",
    "        self.indexer_service = indexer_service\n",
    "        self.corpus_id = corpus_id\n",
    "        self.docs = []\n",
    "\n",
    "    def add_doc(self, doc):\n",
    "        self.docs.append(doc)\n",
    "\n",
    "    def index_docs(self):\n",
    "        try:\n",
    "            for doc in self.docs:\n",
    "                self.indexer_service.index_doc(self.corpus_id, doc)\n",
    "        except Exception as e:\n",
    "            # Ignore for lab\n",
    "            self.logger(\"Error: {e}\")\n",
    "\n",
    "thread_count = 10\n",
    "sub_indexers = [ SubIndexer(client.indexer_service, corpus_id) for x in range(thread_count)]\n",
    "\n",
    "\n",
    "for index, doc in enumerate(vectara_documents):\n",
    "    thread_index = index % thread_count\n",
    "    sub_indexers[thread_index].add_doc(doc)\n",
    "\n"
   ]
  },
  {
   "cell_type": "code",
   "execution_count": null,
   "id": "b78e5596-4b1d-4e63-9055-96f8a5c0e8b6",
   "metadata": {},
   "outputs": [],
   "source": [
    "from threading import Thread\n",
    "\n",
    "threads = []\n",
    "for sub_indexer in sub_indexers:\n",
    "    thread = Thread(target = sub_indexer.index_docs)\n",
    "    threads.append(thread)\n",
    "    thread.start()\n",
    "\n",
    "\n",
    "for index, thread in enumerate(threads):\n",
    "    logger.info(f\"Joining thread {index}\")\n",
    "    thread.join()\n",
    "    "
   ]
  }
 ],
 "metadata": {
  "kernelspec": {
   "display_name": "Python 3 (ipykernel)",
   "language": "python",
   "name": "python3"
  },
  "language_info": {
   "codemirror_mode": {
    "name": "ipython",
    "version": 3
   },
   "file_extension": ".py",
   "mimetype": "text/x-python",
   "name": "python",
   "nbconvert_exporter": "python",
   "pygments_lexer": "ipython3",
   "version": "3.12.1"
  }
 },
 "nbformat": 4,
 "nbformat_minor": 5
}
