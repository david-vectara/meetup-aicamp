{
 "cells": [
  {
   "cell_type": "markdown",
   "id": "4570f738-216e-47df-80df-08239711ed8f",
   "metadata": {},
   "source": [
    "# Cleanup Corpora\n",
    "\n",
    "Run this script to delete the lab corpora."
   ]
  },
  {
   "cell_type": "code",
   "execution_count": 20,
   "id": "3bfc2cbc-8133-4cf3-af74-39f8e5a87072",
   "metadata": {},
   "outputs": [
    {
     "name": "stderr",
     "output_type": "stream",
     "text": [
      "17:53:51 +1000:Factory                             INFO:initializing builder\n",
      "17:53:51 +1000:Factory                             INFO:Factory will load configuration from home directory\n",
      "17:53:51 +1000:HomeConfigLoader                    INFO:Loading configuration from users home directory [C:\\Users\\david]\n",
      "17:53:51 +1000:HomeConfigLoader                    INFO:Loading default configuration [default]\n",
      "17:53:51 +1000:HomeConfigLoader                    INFO:Parsing config\n",
      "17:53:51 +1000:root                                INFO:We are processing authentication type [OAuth2]\n",
      "17:53:51 +1000:root                                INFO:initializing Client\n",
      "17:53:51 +1000:CorpusManager                       INFO:Deleting existing corpus named [AICamp Events]\n",
      "17:53:52 +1000:RequestUtil                         INFO:URL for operation list-corpora is: https://api.vectara.io/v1/list-corpora\n",
      "17:53:53 +1000:CorpusManager                       INFO:We found [1] potential matches\n",
      "17:53:53 +1000:CorpusManager                       INFO:Deleting existing corpus with id [753]\n",
      "17:53:53 +1000:RequestUtil                         INFO:URL for operation delete-corpus is: https://api.vectara.io/v1/delete-corpus\n",
      "17:53:56 +1000:CorpusManager                       INFO:Deleting existing corpus named [AICamp Sessions]\n",
      "17:53:56 +1000:RequestUtil                         INFO:URL for operation list-corpora is: https://api.vectara.io/v1/list-corpora\n",
      "17:53:58 +1000:CorpusManager                       INFO:We found [1] potential matches\n",
      "17:53:58 +1000:CorpusManager                       INFO:Deleting existing corpus with id [755]\n",
      "17:53:58 +1000:RequestUtil                         INFO:URL for operation delete-corpus is: https://api.vectara.io/v1/delete-corpus\n"
     ]
    },
    {
     "data": {
      "text/plain": [
       "True"
      ]
     },
     "execution_count": 20,
     "metadata": {},
     "output_type": "execute_result"
    }
   ],
   "source": [
    "from vectara_client.core import Factory\n",
    "from vectara_client.admin import CorpusBuilder\n",
    "import logging\n",
    "\n",
    "logging.basicConfig(format='%(asctime)s:%(name)-35s %(levelname)s:%(message)s', level=logging.INFO, datefmt='%H:%M:%S %z')\n",
    "logging.getLogger(\"OAuthUtil\").setLevel(logging.WARNING)\n",
    "logger = logging.getLogger(__name__)\n",
    "\n",
    "client = Factory().build()\n",
    "manager = client.corpus_manager\n",
    "\n",
    "manager.delete_corpus_by_name(\"AICamp Events\")\n",
    "manager.delete_corpus_by_name(\"AICamp Sessions\")\n"
   ]
  }
 ],
 "metadata": {
  "kernelspec": {
   "display_name": "Python 3 (ipykernel)",
   "language": "python",
   "name": "python3"
  },
  "language_info": {
   "codemirror_mode": {
    "name": "ipython",
    "version": 3
   },
   "file_extension": ".py",
   "mimetype": "text/x-python",
   "name": "python",
   "nbconvert_exporter": "python",
   "pygments_lexer": "ipython3",
   "version": "3.12.1"
  }
 },
 "nbformat": 4,
 "nbformat_minor": 5
}
